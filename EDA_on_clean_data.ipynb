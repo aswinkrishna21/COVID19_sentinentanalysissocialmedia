{
  "nbformat": 4,
  "nbformat_minor": 0,
  "metadata": {
    "colab": {
      "name": "EDA on clean data",
      "provenance": [],
      "collapsed_sections": []
    },
    "kernelspec": {
      "name": "python3",
      "display_name": "Python 3"
    }
  },
  "cells": [
    {
      "cell_type": "code",
      "metadata": {
        "id": "W6AIGMM8e9Ap"
      },
      "source": [
        "import pandas as pd\n",
        "import numpy as np\n",
        "import seaborn as sns\n",
        "import matplotlib.pyplot as plt\n",
        "%matplotlib inline"
      ],
      "execution_count": 1,
      "outputs": []
    },
    {
      "cell_type": "code",
      "metadata": {
        "id": "SMAci_v5gjUi"
      },
      "source": [
        "ieee = pd.read_csv(\"/content/drive/My Drive/Covid 19 India/ieee_extract.csv\")\n",
        "ait_train = pd.read_csv(\"/content/drive/My Drive/Covid 19 India/semeval_train.csv\")\n",
        "ait_dev = pd.read_csv(\"/content/drive/My Drive/Covid 19 India/semeval_dev.csv\")\n",
        "ait_test = pd.read_csv(\"/content/drive/My Drive/Covid 19 India/semval_test.csv\")\n",
        "senwave = pd.read_csv(\"/content/drive/My Drive/Covid 19 India/labeledEn.csv\")"
      ],
      "execution_count": 2,
      "outputs": []
    },
    {
      "cell_type": "code",
      "metadata": {
        "id": "1SgJl-dhgtTT",
        "outputId": "f742679e-9496-44f6-970a-b311a495f16b",
        "colab": {
          "base_uri": "https://localhost:8080/"
        }
      },
      "source": [
        "print(\"Length of IEEE Dataset = {}\".format(len(ieee)))\n",
        "print(\"Length of AIT Train Dataset = {}\".format(len(ait_train)))\n",
        "print(\"Length of AIT Dev Dataset = {}\".format(len(ait_dev)))\n",
        "print(\"Length of AIT Test Dataset = {}\".format(len(ait_test)))\n",
        "print(\"Length of Senwave Dataset = {}\".format(len(senwave)))"
      ],
      "execution_count": 3,
      "outputs": [
        {
          "output_type": "stream",
          "text": [
            "Length of IEEE Dataset = 159312\n",
            "Length of AIT Train Dataset = 6838\n",
            "Length of AIT Dev Dataset = 886\n",
            "Length of AIT Test Dataset = 3259\n",
            "Length of Senwave Dataset = 10000\n"
          ],
          "name": "stdout"
        }
      ]
    },
    {
      "cell_type": "code",
      "metadata": {
        "id": "QMo48wKCh1TL",
        "outputId": "b9a2a4f8-56cd-4d0a-9027-c557a8573f9c",
        "colab": {
          "base_uri": "https://localhost:8080/",
          "height": 343
        }
      },
      "source": [
        "senwave.head(10)"
      ],
      "execution_count": 4,
      "outputs": [
        {
          "output_type": "execute_result",
          "data": {
            "text/html": [
              "<div>\n",
              "<style scoped>\n",
              "    .dataframe tbody tr th:only-of-type {\n",
              "        vertical-align: middle;\n",
              "    }\n",
              "\n",
              "    .dataframe tbody tr th {\n",
              "        vertical-align: top;\n",
              "    }\n",
              "\n",
              "    .dataframe thead th {\n",
              "        text-align: right;\n",
              "    }\n",
              "</style>\n",
              "<table border=\"1\" class=\"dataframe\">\n",
              "  <thead>\n",
              "    <tr style=\"text-align: right;\">\n",
              "      <th></th>\n",
              "      <th>ID</th>\n",
              "      <th>Tweet</th>\n",
              "      <th>Optimistic</th>\n",
              "      <th>Thankful</th>\n",
              "      <th>Empathetic</th>\n",
              "      <th>Pessimistic</th>\n",
              "      <th>Anxious</th>\n",
              "      <th>Sad</th>\n",
              "      <th>Annoyed</th>\n",
              "      <th>Denial</th>\n",
              "      <th>Official report</th>\n",
              "      <th>Surprise</th>\n",
              "      <th>Joking</th>\n",
              "    </tr>\n",
              "  </thead>\n",
              "  <tbody>\n",
              "    <tr>\n",
              "      <th>0</th>\n",
              "      <td>1.245140e+18</td>\n",
              "      <td>A glass of wine keeps the corona away- DRAKE. ...</td>\n",
              "      <td>1</td>\n",
              "      <td>0</td>\n",
              "      <td>0</td>\n",
              "      <td>0</td>\n",
              "      <td>0</td>\n",
              "      <td>0</td>\n",
              "      <td>0</td>\n",
              "      <td>0</td>\n",
              "      <td>0</td>\n",
              "      <td>0</td>\n",
              "      <td>1</td>\n",
              "    </tr>\n",
              "    <tr>\n",
              "      <th>1</th>\n",
              "      <td>1.245140e+18</td>\n",
              "      <td>Can Anyone tell me if you took the flu shot la...</td>\n",
              "      <td>0</td>\n",
              "      <td>0</td>\n",
              "      <td>0</td>\n",
              "      <td>0</td>\n",
              "      <td>1</td>\n",
              "      <td>0</td>\n",
              "      <td>0</td>\n",
              "      <td>0</td>\n",
              "      <td>0</td>\n",
              "      <td>1</td>\n",
              "      <td>0</td>\n",
              "    </tr>\n",
              "    <tr>\n",
              "      <th>2</th>\n",
              "      <td>1.245140e+18</td>\n",
              "      <td>Btw producers send me beats I’m working on mus...</td>\n",
              "      <td>1</td>\n",
              "      <td>0</td>\n",
              "      <td>0</td>\n",
              "      <td>0</td>\n",
              "      <td>0</td>\n",
              "      <td>0</td>\n",
              "      <td>0</td>\n",
              "      <td>0</td>\n",
              "      <td>0</td>\n",
              "      <td>0</td>\n",
              "      <td>1</td>\n",
              "    </tr>\n",
              "    <tr>\n",
              "      <th>3</th>\n",
              "      <td>1.245140e+18</td>\n",
              "      <td>When someone you know.. apart of your family d...</td>\n",
              "      <td>0</td>\n",
              "      <td>0</td>\n",
              "      <td>0</td>\n",
              "      <td>0</td>\n",
              "      <td>0</td>\n",
              "      <td>1</td>\n",
              "      <td>0</td>\n",
              "      <td>0</td>\n",
              "      <td>0</td>\n",
              "      <td>0</td>\n",
              "      <td>0</td>\n",
              "    </tr>\n",
              "    <tr>\n",
              "      <th>4</th>\n",
              "      <td>1.245140e+18</td>\n",
              "      <td>Dear soccer,\\nI really miss you ,please come b...</td>\n",
              "      <td>0</td>\n",
              "      <td>0</td>\n",
              "      <td>0</td>\n",
              "      <td>0</td>\n",
              "      <td>0</td>\n",
              "      <td>1</td>\n",
              "      <td>1</td>\n",
              "      <td>0</td>\n",
              "      <td>0</td>\n",
              "      <td>0</td>\n",
              "      <td>0</td>\n",
              "    </tr>\n",
              "    <tr>\n",
              "      <th>5</th>\n",
              "      <td>1.245140e+18</td>\n",
              "      <td>new home remedy to treat coronavirus! tested b...</td>\n",
              "      <td>1</td>\n",
              "      <td>0</td>\n",
              "      <td>0</td>\n",
              "      <td>0</td>\n",
              "      <td>0</td>\n",
              "      <td>0</td>\n",
              "      <td>0</td>\n",
              "      <td>1</td>\n",
              "      <td>0</td>\n",
              "      <td>0</td>\n",
              "      <td>1</td>\n",
              "    </tr>\n",
              "    <tr>\n",
              "      <th>6</th>\n",
              "      <td>1.245140e+18</td>\n",
              "      <td>When Xavier Wulf does an Attack on Titan tape ...</td>\n",
              "      <td>0</td>\n",
              "      <td>0</td>\n",
              "      <td>0</td>\n",
              "      <td>0</td>\n",
              "      <td>0</td>\n",
              "      <td>0</td>\n",
              "      <td>0</td>\n",
              "      <td>0</td>\n",
              "      <td>0</td>\n",
              "      <td>0</td>\n",
              "      <td>1</td>\n",
              "    </tr>\n",
              "    <tr>\n",
              "      <th>7</th>\n",
              "      <td>1.245140e+18</td>\n",
              "      <td>Mouthwash is hand san for your mouth and I don...</td>\n",
              "      <td>0</td>\n",
              "      <td>0</td>\n",
              "      <td>0</td>\n",
              "      <td>0</td>\n",
              "      <td>0</td>\n",
              "      <td>1</td>\n",
              "      <td>0</td>\n",
              "      <td>0</td>\n",
              "      <td>0</td>\n",
              "      <td>1</td>\n",
              "      <td>1</td>\n",
              "    </tr>\n",
              "    <tr>\n",
              "      <th>8</th>\n",
              "      <td>1.245140e+18</td>\n",
              "      <td>@Sandykikimunch2 @Thomas1774Paine Yes all of t...</td>\n",
              "      <td>0</td>\n",
              "      <td>0</td>\n",
              "      <td>0</td>\n",
              "      <td>0</td>\n",
              "      <td>0</td>\n",
              "      <td>0</td>\n",
              "      <td>1</td>\n",
              "      <td>0</td>\n",
              "      <td>1</td>\n",
              "      <td>1</td>\n",
              "      <td>0</td>\n",
              "    </tr>\n",
              "    <tr>\n",
              "      <th>9</th>\n",
              "      <td>1.245140e+18</td>\n",
              "      <td>Update I destroyed the tire 😔 honestly if I ge...</td>\n",
              "      <td>0</td>\n",
              "      <td>0</td>\n",
              "      <td>0</td>\n",
              "      <td>1</td>\n",
              "      <td>0</td>\n",
              "      <td>1</td>\n",
              "      <td>0</td>\n",
              "      <td>0</td>\n",
              "      <td>0</td>\n",
              "      <td>0</td>\n",
              "      <td>0</td>\n",
              "    </tr>\n",
              "  </tbody>\n",
              "</table>\n",
              "</div>"
            ],
            "text/plain": [
              "             ID  ... Joking\n",
              "0  1.245140e+18  ...      1\n",
              "1  1.245140e+18  ...      0\n",
              "2  1.245140e+18  ...      1\n",
              "3  1.245140e+18  ...      0\n",
              "4  1.245140e+18  ...      0\n",
              "5  1.245140e+18  ...      1\n",
              "6  1.245140e+18  ...      1\n",
              "7  1.245140e+18  ...      1\n",
              "8  1.245140e+18  ...      0\n",
              "9  1.245140e+18  ...      0\n",
              "\n",
              "[10 rows x 13 columns]"
            ]
          },
          "metadata": {
            "tags": []
          },
          "execution_count": 4
        }
      ]
    },
    {
      "cell_type": "code",
      "metadata": {
        "id": "W4Gu-KfArHzg",
        "outputId": "1da3cfe0-b421-420d-f1b1-2014e77ed4dc",
        "colab": {
          "base_uri": "https://localhost:8080/",
          "height": 623
        }
      },
      "source": [
        "emotions = list(senwave.columns[2:])\n",
        "scores = [sum(senwave[x]) for x in emotions]\n",
        "pairs = []\n",
        "\n",
        "for i in range(len(emotions)):\n",
        "    pairs.append((emotions[i], scores[i]))\n",
        "\n",
        "pairs = sorted(pairs, key = lambda x : x[1], reverse = False)\n",
        "emotions_sorted = []\n",
        "scores_sorted = []\n",
        "\n",
        "for pair in pairs:\n",
        "    emotions_sorted.append(pair[0])\n",
        "    scores_sorted.append(pair[1])\n",
        "\n",
        "fig = plt.figure(figsize = (10, 10))\n",
        "plt.barh(emotions_sorted, scores_sorted, color = 'green')\n",
        "plt.ylabel(\"Emotions\")\n",
        "plt.xlabel(\"Count\")"
      ],
      "execution_count": 5,
      "outputs": [
        {
          "output_type": "execute_result",
          "data": {
            "text/plain": [
              "Text(0.5, 0, 'Count')"
            ]
          },
          "metadata": {
            "tags": []
          },
          "execution_count": 5
        },
        {
          "output_type": "display_data",
          "data": {
            "image/png": "[encoded data removed]",
            "text/plain": [
              "<Figure size 720x720 with 1 Axes>"
            ]
          },
          "metadata": {
            "tags": [],
            "needs_background": "light"
          }
        }
      ]
    },
    {
      "cell_type": "code",
      "metadata": {
        "id": "sPzngWuv_OQm"
      },
      "source": [
        "ieee = ieee.dropna(axis = 0, how = 'any')"
      ],
      "execution_count": 6,
      "outputs": []
    },
    {
      "cell_type": "code",
      "metadata": {
        "id": "wWxE471D-cSq"
      },
      "source": [
        "groups = []\n",
        "for i in range(len(ieee)):\n",
        "    dt = ieee.iloc[i]['month']\n",
        "    if (dt >= \"Mar 25\") and (dt <= \"Mar 31\"):\n",
        "        groups.append(0)\n",
        "    elif (dt == \"Apr 01\") or (dt == \"Apr 02\"):\n",
        "        groups.append(0)\n",
        "    elif (dt >= \"Apr 14\") and (dt <= \"Apr 21\"):\n",
        "        groups.append(1)\n",
        "    elif (dt >= \"May 01\") and (dt <= \"May 07\"):\n",
        "        groups.append(2)\n",
        "    elif (dt >= \"May 18\") and (dt <= \"May 23\"):\n",
        "        groups.append(3)\n",
        "    elif (dt >= \"Jun 01\") and (dt <= \"Jun 07\"):\n",
        "        groups.append(4)\n",
        "    elif ((dt >= \"Jun 22\") and (dt <= \"Jun 30\")) or (dt == \"Jul 01\"):\n",
        "        groups.append(5)\n",
        "    elif (dt >= \"Jul 02\") and (dt <= \"Jul 15\"):\n",
        "        groups.append(6)\n",
        "    elif (dt >= \"Jul 16\") and (dt <= \"Jul 31\"):\n",
        "        groups.append(7)\n",
        "    elif (dt >= \"Aug 01\") and (dt <= \"Aug 04\"):\n",
        "        groups.append(7)\n",
        "    elif (dt >= \"Aug 05\") and (dt <= \"Aug 18\"):\n",
        "        groups.append(8)\n",
        "    elif ((dt >= \"Aug 19\") and (dt <= \"Aug 31\")) or (dt == \"Sep 01\"):\n",
        "        groups.append(9)\n",
        "    else:\n",
        "        groups.append(10)"
      ],
      "execution_count": 7,
      "outputs": []
    },
    {
      "cell_type": "code",
      "metadata": {
        "id": "wM4PtNqVp1vV"
      },
      "source": [
        "ieee['group'] = groups"
      ],
      "execution_count": 8,
      "outputs": []
    },
    {
      "cell_type": "code",
      "metadata": {
        "id": "TSkL-_BSAbjy",
        "outputId": "d3aed230-355f-4539-a1e2-a6fc8af49dd7",
        "colab": {
          "base_uri": "https://localhost:8080/",
          "height": 343
        }
      },
      "source": [
        "ieee.head(10)"
      ],
      "execution_count": 9,
      "outputs": [
        {
          "output_type": "execute_result",
          "data": {
            "text/html": [
              "<div>\n",
              "<style scoped>\n",
              "    .dataframe tbody tr th:only-of-type {\n",
              "        vertical-align: middle;\n",
              "    }\n",
              "\n",
              "    .dataframe tbody tr th {\n",
              "        vertical-align: top;\n",
              "    }\n",
              "\n",
              "    .dataframe thead th {\n",
              "        text-align: right;\n",
              "    }\n",
              "</style>\n",
              "<table border=\"1\" class=\"dataframe\">\n",
              "  <thead>\n",
              "    <tr style=\"text-align: right;\">\n",
              "      <th></th>\n",
              "      <th>tweet_id</th>\n",
              "      <th>tweet</th>\n",
              "      <th>sentiment_score</th>\n",
              "      <th>month</th>\n",
              "      <th>group</th>\n",
              "    </tr>\n",
              "  </thead>\n",
              "  <tbody>\n",
              "    <tr>\n",
              "      <th>0</th>\n",
              "      <td>1242697733175226369</td>\n",
              "      <td>Meditation and mindfulness tips for coping wit...</td>\n",
              "      <td>0.125</td>\n",
              "      <td>Mar 25</td>\n",
              "      <td>0</td>\n",
              "    </tr>\n",
              "    <tr>\n",
              "      <th>1</th>\n",
              "      <td>1242701857253982208</td>\n",
              "      <td>Contribute to INDIA FIGHTS CORONA @ Gandhinaga...</td>\n",
              "      <td>0.0</td>\n",
              "      <td>Mar 25</td>\n",
              "      <td>0</td>\n",
              "    </tr>\n",
              "    <tr>\n",
              "      <th>2</th>\n",
              "      <td>1242697356249882626</td>\n",
              "      <td>@DelhiPolice @DCPEastDelhi @msisodia @AamAadmi...</td>\n",
              "      <td>0.0</td>\n",
              "      <td>Mar 25</td>\n",
              "      <td>0</td>\n",
              "    </tr>\n",
              "    <tr>\n",
              "      <th>3</th>\n",
              "      <td>1242694142242652160</td>\n",
              "      <td>#SSC_UFM_MAT_KARONA\\n#Corona is slow poison #U...</td>\n",
              "      <td>0.033333333333333326</td>\n",
              "      <td>Mar 25</td>\n",
              "      <td>0</td>\n",
              "    </tr>\n",
              "    <tr>\n",
              "      <th>4</th>\n",
              "      <td>1242700536752701440</td>\n",
              "      <td>https://t.co/P7eQiq8tFa Mata Di \\nDoston ise #...</td>\n",
              "      <td>0.6</td>\n",
              "      <td>Mar 25</td>\n",
              "      <td>0</td>\n",
              "    </tr>\n",
              "    <tr>\n",
              "      <th>5</th>\n",
              "      <td>1242695689483759616</td>\n",
              "      <td>@chintskap And my mum will be PhD in Corona vi...</td>\n",
              "      <td>0.0</td>\n",
              "      <td>Mar 25</td>\n",
              "      <td>0</td>\n",
              "    </tr>\n",
              "    <tr>\n",
              "      <th>6</th>\n",
              "      <td>1242701623509389312</td>\n",
              "      <td>@funnyhammy @GauravPandhi Dumbo, it's the amou...</td>\n",
              "      <td>-0.125</td>\n",
              "      <td>Mar 25</td>\n",
              "      <td>0</td>\n",
              "    </tr>\n",
              "    <tr>\n",
              "      <th>7</th>\n",
              "      <td>1242696672745947136</td>\n",
              "      <td>. First they allowed Corona possessions. Now t...</td>\n",
              "      <td>0.08095238095238096</td>\n",
              "      <td>Mar 25</td>\n",
              "      <td>0</td>\n",
              "    </tr>\n",
              "    <tr>\n",
              "      <th>8</th>\n",
              "      <td>1242698536891760641</td>\n",
              "      <td>@TV9Marathi \\nKindly help us to break the chai...</td>\n",
              "      <td>0.6</td>\n",
              "      <td>Mar 25</td>\n",
              "      <td>0</td>\n",
              "    </tr>\n",
              "    <tr>\n",
              "      <th>9</th>\n",
              "      <td>1242695871260758016</td>\n",
              "      <td>When you are at safe at home, Corona is out bu...</td>\n",
              "      <td>0.3333333333333333</td>\n",
              "      <td>Mar 25</td>\n",
              "      <td>0</td>\n",
              "    </tr>\n",
              "  </tbody>\n",
              "</table>\n",
              "</div>"
            ],
            "text/plain": [
              "              tweet_id  ... group\n",
              "0  1242697733175226369  ...     0\n",
              "1  1242701857253982208  ...     0\n",
              "2  1242697356249882626  ...     0\n",
              "3  1242694142242652160  ...     0\n",
              "4  1242700536752701440  ...     0\n",
              "5  1242695689483759616  ...     0\n",
              "6  1242701623509389312  ...     0\n",
              "7  1242696672745947136  ...     0\n",
              "8  1242698536891760641  ...     0\n",
              "9  1242695871260758016  ...     0\n",
              "\n",
              "[10 rows x 5 columns]"
            ]
          },
          "metadata": {
            "tags": []
          },
          "execution_count": 9
        }
      ]
    },
    {
      "cell_type": "code",
      "metadata": {
        "id": "o_St5B8HKiOD",
        "outputId": "cc57401b-e39f-4d1e-9ae7-24b890eee853",
        "colab": {
          "base_uri": "https://localhost:8080/"
        }
      },
      "source": [
        "len(ieee)"
      ],
      "execution_count": 10,
      "outputs": [
        {
          "output_type": "execute_result",
          "data": {
            "text/plain": [
              "159289"
            ]
          },
          "metadata": {
            "tags": []
          },
          "execution_count": 10
        }
      ]
    },
    {
      "cell_type": "code",
      "metadata": {
        "id": "gQkXb6mcKlR6"
      },
      "source": [
        "ieee.drop_duplicates(subset = 'tweet', keep = 'first', inplace = True)"
      ],
      "execution_count": 11,
      "outputs": []
    },
    {
      "cell_type": "code",
      "metadata": {
        "id": "eYdk1zEpK4N_",
        "outputId": "a77abed3-e50e-451d-902b-78ee11077ed8",
        "colab": {
          "base_uri": "https://localhost:8080/"
        }
      },
      "source": [
        "len(ieee)"
      ],
      "execution_count": 12,
      "outputs": [
        {
          "output_type": "execute_result",
          "data": {
            "text/plain": [
              "158941"
            ]
          },
          "metadata": {
            "tags": []
          },
          "execution_count": 12
        }
      ]
    },
    {
      "cell_type": "code",
      "metadata": {
        "id": "1LuK8FEQLESG"
      },
      "source": [
        "group_scores = []\n",
        "for i in range(ieee['group'].nunique()):\n",
        "    subset = ieee[ieee['group'] == i]\n",
        "    group_scores.append(sum(subset['sentiment_score'].astype(float).tolist())/len(subset))"
      ],
      "execution_count": 13,
      "outputs": []
    },
    {
      "cell_type": "code",
      "metadata": {
        "id": "_g07nmG3FIJC",
        "outputId": "c26589e4-a99c-4606-f904-0f8bd1544c53",
        "colab": {
          "base_uri": "https://localhost:8080/",
          "height": 621
        }
      },
      "source": [
        "groups = ['Lockdown 1', 'Lockdown 2', 'Lockdown 3', 'Lockdown 4', 'June Start', 'June End', 'July Start', 'July End', 'Aug Start', 'Aug End', 'Sept']\n",
        "\n",
        "fig = plt.figure(figsize = (10, 10))\n",
        "plt.barh(groups, group_scores, color = 'green')\n",
        "plt.xlabel(\"Period\")\n",
        "plt.ylabel(\"Average sentiment score\")\n",
        "plt.title(\"Average sentiment score for each corresponding period\")\n",
        "plt.show()"
      ],
      "execution_count": 14,
      "outputs": [
        {
          "output_type": "display_data",
          "data": {
            "image/png": "[encoded data removed]",
            "text/plain": [
              "<Figure size 720x720 with 1 Axes>"
            ]
          },
          "metadata": {
            "tags": [],
            "needs_background": "light"
          }
        }
      ]
    },
    {
      "cell_type": "markdown",
      "metadata": {
        "id": "YCVrxPHpI6Ka"
      },
      "source": [
        "# **Lockdown 1**"
      ]
    },
    {
      "cell_type": "code",
      "metadata": {
        "id": "tmhucWwRJ3Cw",
        "outputId": "13f55092-af82-4046-c0dc-51510ddad96a",
        "colab": {
          "base_uri": "https://localhost:8080/",
          "height": 373
        }
      },
      "source": [
        "ld1 = ieee[ieee['group'] == 0]\n",
        "ld1.describe(include = 'all')"
      ],
      "execution_count": 15,
      "outputs": [
        {
          "output_type": "execute_result",
          "data": {
            "text/html": [
              "<div>\n",
              "<style scoped>\n",
              "    .dataframe tbody tr th:only-of-type {\n",
              "        vertical-align: middle;\n",
              "    }\n",
              "\n",
              "    .dataframe tbody tr th {\n",
              "        vertical-align: top;\n",
              "    }\n",
              "\n",
              "    .dataframe thead th {\n",
              "        text-align: right;\n",
              "    }\n",
              "</style>\n",
              "<table border=\"1\" class=\"dataframe\">\n",
              "  <thead>\n",
              "    <tr style=\"text-align: right;\">\n",
              "      <th></th>\n",
              "      <th>tweet_id</th>\n",
              "      <th>tweet</th>\n",
              "      <th>sentiment_score</th>\n",
              "      <th>month</th>\n",
              "      <th>group</th>\n",
              "    </tr>\n",
              "  </thead>\n",
              "  <tbody>\n",
              "    <tr>\n",
              "      <th>count</th>\n",
              "      <td>19695</td>\n",
              "      <td>19695</td>\n",
              "      <td>19695</td>\n",
              "      <td>19695</td>\n",
              "      <td>19695.0</td>\n",
              "    </tr>\n",
              "    <tr>\n",
              "      <th>unique</th>\n",
              "      <td>19695</td>\n",
              "      <td>19695</td>\n",
              "      <td>2535</td>\n",
              "      <td>9</td>\n",
              "      <td>NaN</td>\n",
              "    </tr>\n",
              "    <tr>\n",
              "      <th>top</th>\n",
              "      <td>1245162650373259265</td>\n",
              "      <td>Hey Corona, I am home so enter at your own ris...</td>\n",
              "      <td>0.0</td>\n",
              "      <td>Mar 28</td>\n",
              "      <td>NaN</td>\n",
              "    </tr>\n",
              "    <tr>\n",
              "      <th>freq</th>\n",
              "      <td>1</td>\n",
              "      <td>1</td>\n",
              "      <td>6441</td>\n",
              "      <td>3115</td>\n",
              "      <td>NaN</td>\n",
              "    </tr>\n",
              "    <tr>\n",
              "      <th>mean</th>\n",
              "      <td>NaN</td>\n",
              "      <td>NaN</td>\n",
              "      <td>NaN</td>\n",
              "      <td>NaN</td>\n",
              "      <td>0.0</td>\n",
              "    </tr>\n",
              "    <tr>\n",
              "      <th>std</th>\n",
              "      <td>NaN</td>\n",
              "      <td>NaN</td>\n",
              "      <td>NaN</td>\n",
              "      <td>NaN</td>\n",
              "      <td>0.0</td>\n",
              "    </tr>\n",
              "    <tr>\n",
              "      <th>min</th>\n",
              "      <td>NaN</td>\n",
              "      <td>NaN</td>\n",
              "      <td>NaN</td>\n",
              "      <td>NaN</td>\n",
              "      <td>0.0</td>\n",
              "    </tr>\n",
              "    <tr>\n",
              "      <th>25%</th>\n",
              "      <td>NaN</td>\n",
              "      <td>NaN</td>\n",
              "      <td>NaN</td>\n",
              "      <td>NaN</td>\n",
              "      <td>0.0</td>\n",
              "    </tr>\n",
              "    <tr>\n",
              "      <th>50%</th>\n",
              "      <td>NaN</td>\n",
              "      <td>NaN</td>\n",
              "      <td>NaN</td>\n",
              "      <td>NaN</td>\n",
              "      <td>0.0</td>\n",
              "    </tr>\n",
              "    <tr>\n",
              "      <th>75%</th>\n",
              "      <td>NaN</td>\n",
              "      <td>NaN</td>\n",
              "      <td>NaN</td>\n",
              "      <td>NaN</td>\n",
              "      <td>0.0</td>\n",
              "    </tr>\n",
              "    <tr>\n",
              "      <th>max</th>\n",
              "      <td>NaN</td>\n",
              "      <td>NaN</td>\n",
              "      <td>NaN</td>\n",
              "      <td>NaN</td>\n",
              "      <td>0.0</td>\n",
              "    </tr>\n",
              "  </tbody>\n",
              "</table>\n",
              "</div>"
            ],
            "text/plain": [
              "                   tweet_id  ...    group\n",
              "count                 19695  ...  19695.0\n",
              "unique                19695  ...      NaN\n",
              "top     1245162650373259265  ...      NaN\n",
              "freq                      1  ...      NaN\n",
              "mean                    NaN  ...      0.0\n",
              "std                     NaN  ...      0.0\n",
              "min                     NaN  ...      0.0\n",
              "25%                     NaN  ...      0.0\n",
              "50%                     NaN  ...      0.0\n",
              "75%                     NaN  ...      0.0\n",
              "max                     NaN  ...      0.0\n",
              "\n",
              "[11 rows x 5 columns]"
            ]
          },
          "metadata": {
            "tags": []
          },
          "execution_count": 15
        }
      ]
    },
    {
      "cell_type": "code",
      "metadata": {
        "id": "ptamVq4-M0Tg",
        "outputId": "aaf516f5-2875-47b1-dfe7-9454fee70431",
        "colab": {
          "base_uri": "https://localhost:8080/"
        }
      },
      "source": [
        "ld1['sentiment_score'] = ld1['sentiment_score'].astype(float)"
      ],
      "execution_count": 18,
      "outputs": [
        {
          "output_type": "stream",
          "text": [
            "/usr/local/lib/python3.6/dist-packages/ipykernel_launcher.py:1: SettingWithCopyWarning: \n",
            "A value is trying to be set on a copy of a slice from a DataFrame.\n",
            "Try using .loc[row_indexer,col_indexer] = value instead\n",
            "\n",
            "See the caveats in the documentation: https://pandas.pydata.org/pandas-docs/stable/user_guide/indexing.html#returning-a-view-versus-a-copy\n",
            "  \"\"\"Entry point for launching an IPython kernel.\n"
          ],
          "name": "stderr"
        }
      ]
    },
    {
      "cell_type": "code",
      "metadata": {
        "id": "dUXACj2mNMss",
        "outputId": "2229aee5-1243-4fbd-a8c3-5c97891f262b",
        "colab": {
          "base_uri": "https://localhost:8080/",
          "height": 349
        }
      },
      "source": [
        "ax = sns.distplot(ld1['sentiment_score'], bins = 19)\n",
        "plt.xlabel(\"Sentiment Score\")\n",
        "plt.ylabel(\"Frequency\")\n",
        "plt.title(\"Lockdown 1 variation\")\n",
        "plt.show(ax)"
      ],
      "execution_count": 49,
      "outputs": [
        {
          "output_type": "stream",
          "text": [
            "/usr/local/lib/python3.6/dist-packages/seaborn/distributions.py:2551: FutureWarning: `distplot` is a deprecated function and will be removed in a future version. Please adapt your code to use either `displot` (a figure-level function with similar flexibility) or `histplot` (an axes-level function for histograms).\n",
            "  warnings.warn(msg, FutureWarning)\n"
          ],
          "name": "stderr"
        },
        {
          "output_type": "display_data",
          "data": {
            "image/png": "[encoded data removed]",
            "text/plain": [
              "<Figure size 432x288 with 1 Axes>"
            ]
          },
          "metadata": {
            "tags": [],
            "needs_background": "light"
          }
        }
      ]
    },
    {
      "cell_type": "markdown",
      "metadata": {
        "id": "_KbjbM6TMIxS"
      },
      "source": [
        "Example from the lockdown 1"
      ]
    },
    {
      "cell_type": "code",
      "metadata": {
        "id": "TIg3J3yVRX7Z",
        "outputId": "90971f17-ae61-4b57-f1a5-56156adb5831",
        "colab": {
          "base_uri": "https://localhost:8080/"
        }
      },
      "source": [
        "pos = ld1[ld1['sentiment_score'] == 1]\n",
        "neu = ld1[ld1['sentiment_score'] == 0]\n",
        "neg = ld1[ld1['sentiment_score'] == -1]\n",
        "\n",
        "pos_rand = np.random.randint(0, len(pos))\n",
        "neu_rand = np.random.randint(0, len(neu))\n",
        "neg_rand = np.random.randint(0, len(neg))\n",
        "\n",
        "print(\"Positive tweet : \", pos['tweet'].iloc[pos_rand], '\\n', \"Score : \", pos.iloc[pos_rand]['sentiment_score'], '\\n\\n\\n')\n",
        "print(\"Neutral tweet : \", neu['tweet'].iloc[neu_rand], '\\n', \"Score : \", neu.iloc[neu_rand]['sentiment_score'], '\\n\\n\\n')\n",
        "print(\"Negative tweet : \", neg['tweet'].iloc[neg_rand], '\\n', \"Score : \", neg.iloc[neg_rand]['sentiment_score'], '\\n\\n\\n')"
      ],
      "execution_count": 22,
      "outputs": [
        {
          "output_type": "stream",
          "text": [
            "Positive tweet :  Very very proud of you @DCPSouthBCP https://t.co/JZ7gOOHFMt \n",
            " Score :  1.0 \n",
            "\n",
            "\n",
            "\n",
            "Neutral tweet :  #PMModi  I want to say that , the Number which is told Yesterday that's 9013151515 that not work .\n",
            "I reply with Nam… https://t.co/BwqY0GNo9r \n",
            " Score :  0.0 \n",
            "\n",
            "\n",
            "\n",
            "Negative tweet :  Worst opposition in the world https://t.co/DC3s2FxJcP \n",
            " Score :  -1.0 \n",
            "\n",
            "\n",
            "\n"
          ],
          "name": "stdout"
        }
      ]
    },
    {
      "cell_type": "markdown",
      "metadata": {
        "id": "3T-6lTfLUDO9"
      },
      "source": [
        "# **Lockdown 2**"
      ]
    },
    {
      "cell_type": "code",
      "metadata": {
        "id": "IoN9AgJjOnZt",
        "outputId": "d87b597e-0d06-485b-930f-0052153df524",
        "colab": {
          "base_uri": "https://localhost:8080/",
          "height": 450
        }
      },
      "source": [
        "ld2 = ieee[ieee['group'] == 1]\n",
        "ld2['sentiment_score'] = ld2['sentiment_score'].astype(float)\n",
        "ax = sns.distplot(ld2['sentiment_score'], bins = 19, color = 'green')\n",
        "plt.xlabel(\"Sentiment Score\")\n",
        "plt.ylabel(\"Frequency\")\n",
        "plt.title(\"Lockdown 2 variation\")\n",
        "plt.show(ax)"
      ],
      "execution_count": 50,
      "outputs": [
        {
          "output_type": "stream",
          "text": [
            "/usr/local/lib/python3.6/dist-packages/ipykernel_launcher.py:2: SettingWithCopyWarning: \n",
            "A value is trying to be set on a copy of a slice from a DataFrame.\n",
            "Try using .loc[row_indexer,col_indexer] = value instead\n",
            "\n",
            "See the caveats in the documentation: https://pandas.pydata.org/pandas-docs/stable/user_guide/indexing.html#returning-a-view-versus-a-copy\n",
            "  \n",
            "/usr/local/lib/python3.6/dist-packages/seaborn/distributions.py:2551: FutureWarning: `distplot` is a deprecated function and will be removed in a future version. Please adapt your code to use either `displot` (a figure-level function with similar flexibility) or `histplot` (an axes-level function for histograms).\n",
            "  warnings.warn(msg, FutureWarning)\n"
          ],
          "name": "stderr"
        },
        {
          "output_type": "display_data",
          "data": {
            "image/png": "[encoded data removed]",
            "text/plain": [
              "<Figure size 432x288 with 1 Axes>"
            ]
          },
          "metadata": {
            "tags": [],
            "needs_background": "light"
          }
        }
      ]
    },
    {
      "cell_type": "code",
      "metadata": {
        "id": "Cr7CnVihUUMN",
        "outputId": "4068e00c-c185-4fda-f425-ad8f2a7f84de",
        "colab": {
          "base_uri": "https://localhost:8080/"
        }
      },
      "source": [
        "pos = ld2[ld2['sentiment_score'] == 1]\n",
        "neu = ld2[ld2['sentiment_score'] == 0]\n",
        "neg = ld2[ld2['sentiment_score'] == -1]\n",
        "\n",
        "pos_rand = np.random.randint(0, len(pos))\n",
        "neu_rand = np.random.randint(0, len(neu))\n",
        "neg_rand = np.random.randint(0, len(neg))\n",
        "\n",
        "print(\"Positive tweet : \", pos['tweet'].iloc[pos_rand], '\\n', \"Score : \", pos.iloc[pos_rand]['sentiment_score'], '\\n\\n\\n')\n",
        "print(\"Neutral tweet : \", neu['tweet'].iloc[neu_rand], '\\n', \"Score : \", neu.iloc[neu_rand]['sentiment_score'], '\\n\\n\\n')\n",
        "print(\"Negative tweet : \", neg['tweet'].iloc[neg_rand], '\\n', \"Score : \", neg.iloc[neg_rand]['sentiment_score'], '\\n\\n\\n')"
      ],
      "execution_count": 31,
      "outputs": [
        {
          "output_type": "stream",
          "text": [
            "Positive tweet :  Best way to understand how india is controlling #Covid_19 https://t.co/NTyYI4BFzz \n",
            " Score :  1.0 \n",
            "\n",
            "\n",
            "\n",
            "Neutral tweet :  Question - I am facing confusion as a kid who needs to choose his life path and then corona happens.… https://t.co/jrHYwR5iWH \n",
            " Score :  0.0 \n",
            "\n",
            "\n",
            "\n",
            "Negative tweet :  Shocking https://t.co/fm5F44SN5E \n",
            " Score :  -1.0 \n",
            "\n",
            "\n",
            "\n"
          ],
          "name": "stdout"
        }
      ]
    },
    {
      "cell_type": "code",
      "metadata": {
        "id": "VqQ4vZwmYtOz"
      },
      "source": [
        ""
      ],
      "execution_count": null,
      "outputs": []
    }
  ]
}